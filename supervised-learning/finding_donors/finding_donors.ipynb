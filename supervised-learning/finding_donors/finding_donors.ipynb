{
 "cells": [
  {
   "cell_type": "markdown",
   "metadata": {},
   "source": [
    "# Machine Learning Engineer Nanodegree\n",
    "## Supervised Learning\n",
    "## Project: Finding Donors for *CharityML*"
   ]
  },
  {
   "cell_type": "markdown",
   "metadata": {},
   "source": [
    "Welcome to the second project of the Machine Learning Engineer Nanodegree! In this notebook, some template code has already been provided for you, and it will be your job to implement the additional functionality necessary to successfully complete this project. Sections that begin with **'Implementation'** in the header indicate that the following block of code will require additional functionality which you must provide. Instructions will be provided for each section and the specifics of the implementation are marked in the code block with a `'TODO'` statement. Please be sure to read the instructions carefully!\n",
    "\n",
    "In addition to implementing code, there will be questions that you must answer which relate to the project and your implementation. Each section where you will answer a question is preceded by a **'Question X'** header. Carefully read each question and provide thorough answers in the following text boxes that begin with **'Answer:'**. Your project submission will be evaluated based on your answers to each of the questions and the implementation you provide.  \n",
    "\n",
    ">**Note:** Please specify WHICH VERSION OF PYTHON you are using when submitting this notebook. Code and Markdown cells can be executed using the **Shift + Enter** keyboard shortcut. In addition, Markdown cells can be edited by typically double-clicking the cell to enter edit mode."
   ]
  },
  {
   "cell_type": "markdown",
   "metadata": {},
   "source": [
    "## Getting Started\n",
    "\n",
    "In this project, you will employ several supervised algorithms of your choice to accurately model individuals' income using data collected from the 1994 U.S. Census. You will then choose the best candidate algorithm from preliminary results and further optimize this algorithm to best model the data. Your goal with this implementation is to construct a model that accurately predicts whether an individual makes more than $50,000. This sort of task can arise in a non-profit setting, where organizations survive on donations.  Understanding an individual's income can help a non-profit better understand how large of a donation to request, or whether or not they should reach out to begin with.  While it can be difficult to determine an individual's general income bracket directly from public sources, we can (as we will see) infer this value from other publically available features. \n",
    "\n",
    "The dataset for this project originates from the [UCI Machine Learning Repository](https://archive.ics.uci.edu/ml/datasets/Census+Income). The datset was donated by Ron Kohavi and Barry Becker, after being published in the article _\"Scaling Up the Accuracy of Naive-Bayes Classifiers: A Decision-Tree Hybrid\"_. You can find the article by Ron Kohavi [online](https://www.aaai.org/Papers/KDD/1996/KDD96-033.pdf). The data we investigate here consists of small changes to the original dataset, such as removing the `'fnlwgt'` feature and records with missing or ill-formatted entries."
   ]
  },
  {
   "cell_type": "markdown",
   "metadata": {},
   "source": [
    "----\n",
    "## Exploring the Data\n",
    "Run the code cell below to load necessary Python libraries and load the census data. Note that the last column from this dataset, `'income'`, will be our target label (whether an individual makes more than, or at most, $50,000 annually). All other columns are features about each individual in the census database."
   ]
  },
  {
   "cell_type": "code",
   "execution_count": 1,
   "metadata": {},
   "outputs": [
    {
     "data": {
      "text/html": [
       "<div>\n",
       "<style scoped>\n",
       "    .dataframe tbody tr th:only-of-type {\n",
       "        vertical-align: middle;\n",
       "    }\n",
       "\n",
       "    .dataframe tbody tr th {\n",
       "        vertical-align: top;\n",
       "    }\n",
       "\n",
       "    .dataframe thead th {\n",
       "        text-align: right;\n",
       "    }\n",
       "</style>\n",
       "<table border=\"1\" class=\"dataframe\">\n",
       "  <thead>\n",
       "    <tr style=\"text-align: right;\">\n",
       "      <th></th>\n",
       "      <th>age</th>\n",
       "      <th>workclass</th>\n",
       "      <th>education_level</th>\n",
       "      <th>education-num</th>\n",
       "      <th>marital-status</th>\n",
       "      <th>occupation</th>\n",
       "      <th>relationship</th>\n",
       "      <th>race</th>\n",
       "      <th>sex</th>\n",
       "      <th>capital-gain</th>\n",
       "      <th>capital-loss</th>\n",
       "      <th>hours-per-week</th>\n",
       "      <th>native-country</th>\n",
       "      <th>income</th>\n",
       "    </tr>\n",
       "  </thead>\n",
       "  <tbody>\n",
       "    <tr>\n",
       "      <th>0</th>\n",
       "      <td>39</td>\n",
       "      <td>State-gov</td>\n",
       "      <td>Bachelors</td>\n",
       "      <td>13.0</td>\n",
       "      <td>Never-married</td>\n",
       "      <td>Adm-clerical</td>\n",
       "      <td>Not-in-family</td>\n",
       "      <td>White</td>\n",
       "      <td>Male</td>\n",
       "      <td>2174.0</td>\n",
       "      <td>0.0</td>\n",
       "      <td>40.0</td>\n",
       "      <td>United-States</td>\n",
       "      <td>&lt;=50K</td>\n",
       "    </tr>\n",
       "    <tr>\n",
       "      <th>1</th>\n",
       "      <td>50</td>\n",
       "      <td>Self-emp-not-inc</td>\n",
       "      <td>Bachelors</td>\n",
       "      <td>13.0</td>\n",
       "      <td>Married-civ-spouse</td>\n",
       "      <td>Exec-managerial</td>\n",
       "      <td>Husband</td>\n",
       "      <td>White</td>\n",
       "      <td>Male</td>\n",
       "      <td>0.0</td>\n",
       "      <td>0.0</td>\n",
       "      <td>13.0</td>\n",
       "      <td>United-States</td>\n",
       "      <td>&lt;=50K</td>\n",
       "    </tr>\n",
       "    <tr>\n",
       "      <th>2</th>\n",
       "      <td>38</td>\n",
       "      <td>Private</td>\n",
       "      <td>HS-grad</td>\n",
       "      <td>9.0</td>\n",
       "      <td>Divorced</td>\n",
       "      <td>Handlers-cleaners</td>\n",
       "      <td>Not-in-family</td>\n",
       "      <td>White</td>\n",
       "      <td>Male</td>\n",
       "      <td>0.0</td>\n",
       "      <td>0.0</td>\n",
       "      <td>40.0</td>\n",
       "      <td>United-States</td>\n",
       "      <td>&lt;=50K</td>\n",
       "    </tr>\n",
       "    <tr>\n",
       "      <th>3</th>\n",
       "      <td>53</td>\n",
       "      <td>Private</td>\n",
       "      <td>11th</td>\n",
       "      <td>7.0</td>\n",
       "      <td>Married-civ-spouse</td>\n",
       "      <td>Handlers-cleaners</td>\n",
       "      <td>Husband</td>\n",
       "      <td>Black</td>\n",
       "      <td>Male</td>\n",
       "      <td>0.0</td>\n",
       "      <td>0.0</td>\n",
       "      <td>40.0</td>\n",
       "      <td>United-States</td>\n",
       "      <td>&lt;=50K</td>\n",
       "    </tr>\n",
       "    <tr>\n",
       "      <th>4</th>\n",
       "      <td>28</td>\n",
       "      <td>Private</td>\n",
       "      <td>Bachelors</td>\n",
       "      <td>13.0</td>\n",
       "      <td>Married-civ-spouse</td>\n",
       "      <td>Prof-specialty</td>\n",
       "      <td>Wife</td>\n",
       "      <td>Black</td>\n",
       "      <td>Female</td>\n",
       "      <td>0.0</td>\n",
       "      <td>0.0</td>\n",
       "      <td>40.0</td>\n",
       "      <td>Cuba</td>\n",
       "      <td>&lt;=50K</td>\n",
       "    </tr>\n",
       "    <tr>\n",
       "      <th>5</th>\n",
       "      <td>37</td>\n",
       "      <td>Private</td>\n",
       "      <td>Masters</td>\n",
       "      <td>14.0</td>\n",
       "      <td>Married-civ-spouse</td>\n",
       "      <td>Exec-managerial</td>\n",
       "      <td>Wife</td>\n",
       "      <td>White</td>\n",
       "      <td>Female</td>\n",
       "      <td>0.0</td>\n",
       "      <td>0.0</td>\n",
       "      <td>40.0</td>\n",
       "      <td>United-States</td>\n",
       "      <td>&lt;=50K</td>\n",
       "    </tr>\n",
       "    <tr>\n",
       "      <th>6</th>\n",
       "      <td>49</td>\n",
       "      <td>Private</td>\n",
       "      <td>9th</td>\n",
       "      <td>5.0</td>\n",
       "      <td>Married-spouse-absent</td>\n",
       "      <td>Other-service</td>\n",
       "      <td>Not-in-family</td>\n",
       "      <td>Black</td>\n",
       "      <td>Female</td>\n",
       "      <td>0.0</td>\n",
       "      <td>0.0</td>\n",
       "      <td>16.0</td>\n",
       "      <td>Jamaica</td>\n",
       "      <td>&lt;=50K</td>\n",
       "    </tr>\n",
       "    <tr>\n",
       "      <th>7</th>\n",
       "      <td>52</td>\n",
       "      <td>Self-emp-not-inc</td>\n",
       "      <td>HS-grad</td>\n",
       "      <td>9.0</td>\n",
       "      <td>Married-civ-spouse</td>\n",
       "      <td>Exec-managerial</td>\n",
       "      <td>Husband</td>\n",
       "      <td>White</td>\n",
       "      <td>Male</td>\n",
       "      <td>0.0</td>\n",
       "      <td>0.0</td>\n",
       "      <td>45.0</td>\n",
       "      <td>United-States</td>\n",
       "      <td>&gt;50K</td>\n",
       "    </tr>\n",
       "    <tr>\n",
       "      <th>8</th>\n",
       "      <td>31</td>\n",
       "      <td>Private</td>\n",
       "      <td>Masters</td>\n",
       "      <td>14.0</td>\n",
       "      <td>Never-married</td>\n",
       "      <td>Prof-specialty</td>\n",
       "      <td>Not-in-family</td>\n",
       "      <td>White</td>\n",
       "      <td>Female</td>\n",
       "      <td>14084.0</td>\n",
       "      <td>0.0</td>\n",
       "      <td>50.0</td>\n",
       "      <td>United-States</td>\n",
       "      <td>&gt;50K</td>\n",
       "    </tr>\n",
       "    <tr>\n",
       "      <th>9</th>\n",
       "      <td>42</td>\n",
       "      <td>Private</td>\n",
       "      <td>Bachelors</td>\n",
       "      <td>13.0</td>\n",
       "      <td>Married-civ-spouse</td>\n",
       "      <td>Exec-managerial</td>\n",
       "      <td>Husband</td>\n",
       "      <td>White</td>\n",
       "      <td>Male</td>\n",
       "      <td>5178.0</td>\n",
       "      <td>0.0</td>\n",
       "      <td>40.0</td>\n",
       "      <td>United-States</td>\n",
       "      <td>&gt;50K</td>\n",
       "    </tr>\n",
       "    <tr>\n",
       "      <th>10</th>\n",
       "      <td>37</td>\n",
       "      <td>Private</td>\n",
       "      <td>Some-college</td>\n",
       "      <td>10.0</td>\n",
       "      <td>Married-civ-spouse</td>\n",
       "      <td>Exec-managerial</td>\n",
       "      <td>Husband</td>\n",
       "      <td>Black</td>\n",
       "      <td>Male</td>\n",
       "      <td>0.0</td>\n",
       "      <td>0.0</td>\n",
       "      <td>80.0</td>\n",
       "      <td>United-States</td>\n",
       "      <td>&gt;50K</td>\n",
       "    </tr>\n",
       "    <tr>\n",
       "      <th>11</th>\n",
       "      <td>30</td>\n",
       "      <td>State-gov</td>\n",
       "      <td>Bachelors</td>\n",
       "      <td>13.0</td>\n",
       "      <td>Married-civ-spouse</td>\n",
       "      <td>Prof-specialty</td>\n",
       "      <td>Husband</td>\n",
       "      <td>Asian-Pac-Islander</td>\n",
       "      <td>Male</td>\n",
       "      <td>0.0</td>\n",
       "      <td>0.0</td>\n",
       "      <td>40.0</td>\n",
       "      <td>India</td>\n",
       "      <td>&gt;50K</td>\n",
       "    </tr>\n",
       "    <tr>\n",
       "      <th>12</th>\n",
       "      <td>23</td>\n",
       "      <td>Private</td>\n",
       "      <td>Bachelors</td>\n",
       "      <td>13.0</td>\n",
       "      <td>Never-married</td>\n",
       "      <td>Adm-clerical</td>\n",
       "      <td>Own-child</td>\n",
       "      <td>White</td>\n",
       "      <td>Female</td>\n",
       "      <td>0.0</td>\n",
       "      <td>0.0</td>\n",
       "      <td>30.0</td>\n",
       "      <td>United-States</td>\n",
       "      <td>&lt;=50K</td>\n",
       "    </tr>\n",
       "    <tr>\n",
       "      <th>13</th>\n",
       "      <td>32</td>\n",
       "      <td>Private</td>\n",
       "      <td>Assoc-acdm</td>\n",
       "      <td>12.0</td>\n",
       "      <td>Never-married</td>\n",
       "      <td>Sales</td>\n",
       "      <td>Not-in-family</td>\n",
       "      <td>Black</td>\n",
       "      <td>Male</td>\n",
       "      <td>0.0</td>\n",
       "      <td>0.0</td>\n",
       "      <td>50.0</td>\n",
       "      <td>United-States</td>\n",
       "      <td>&lt;=50K</td>\n",
       "    </tr>\n",
       "    <tr>\n",
       "      <th>14</th>\n",
       "      <td>34</td>\n",
       "      <td>Private</td>\n",
       "      <td>7th-8th</td>\n",
       "      <td>4.0</td>\n",
       "      <td>Married-civ-spouse</td>\n",
       "      <td>Transport-moving</td>\n",
       "      <td>Husband</td>\n",
       "      <td>Amer-Indian-Eskimo</td>\n",
       "      <td>Male</td>\n",
       "      <td>0.0</td>\n",
       "      <td>0.0</td>\n",
       "      <td>45.0</td>\n",
       "      <td>Mexico</td>\n",
       "      <td>&lt;=50K</td>\n",
       "    </tr>\n",
       "  </tbody>\n",
       "</table>\n",
       "</div>"
      ],
      "text/plain": [
       "    age          workclass education_level  education-num  \\\n",
       "0    39          State-gov       Bachelors           13.0   \n",
       "1    50   Self-emp-not-inc       Bachelors           13.0   \n",
       "2    38            Private         HS-grad            9.0   \n",
       "3    53            Private            11th            7.0   \n",
       "4    28            Private       Bachelors           13.0   \n",
       "5    37            Private         Masters           14.0   \n",
       "6    49            Private             9th            5.0   \n",
       "7    52   Self-emp-not-inc         HS-grad            9.0   \n",
       "8    31            Private         Masters           14.0   \n",
       "9    42            Private       Bachelors           13.0   \n",
       "10   37            Private    Some-college           10.0   \n",
       "11   30          State-gov       Bachelors           13.0   \n",
       "12   23            Private       Bachelors           13.0   \n",
       "13   32            Private      Assoc-acdm           12.0   \n",
       "14   34            Private         7th-8th            4.0   \n",
       "\n",
       "            marital-status          occupation    relationship  \\\n",
       "0            Never-married        Adm-clerical   Not-in-family   \n",
       "1       Married-civ-spouse     Exec-managerial         Husband   \n",
       "2                 Divorced   Handlers-cleaners   Not-in-family   \n",
       "3       Married-civ-spouse   Handlers-cleaners         Husband   \n",
       "4       Married-civ-spouse      Prof-specialty            Wife   \n",
       "5       Married-civ-spouse     Exec-managerial            Wife   \n",
       "6    Married-spouse-absent       Other-service   Not-in-family   \n",
       "7       Married-civ-spouse     Exec-managerial         Husband   \n",
       "8            Never-married      Prof-specialty   Not-in-family   \n",
       "9       Married-civ-spouse     Exec-managerial         Husband   \n",
       "10      Married-civ-spouse     Exec-managerial         Husband   \n",
       "11      Married-civ-spouse      Prof-specialty         Husband   \n",
       "12           Never-married        Adm-clerical       Own-child   \n",
       "13           Never-married               Sales   Not-in-family   \n",
       "14      Married-civ-spouse    Transport-moving         Husband   \n",
       "\n",
       "                   race      sex  capital-gain  capital-loss  hours-per-week  \\\n",
       "0                 White     Male        2174.0           0.0            40.0   \n",
       "1                 White     Male           0.0           0.0            13.0   \n",
       "2                 White     Male           0.0           0.0            40.0   \n",
       "3                 Black     Male           0.0           0.0            40.0   \n",
       "4                 Black   Female           0.0           0.0            40.0   \n",
       "5                 White   Female           0.0           0.0            40.0   \n",
       "6                 Black   Female           0.0           0.0            16.0   \n",
       "7                 White     Male           0.0           0.0            45.0   \n",
       "8                 White   Female       14084.0           0.0            50.0   \n",
       "9                 White     Male        5178.0           0.0            40.0   \n",
       "10                Black     Male           0.0           0.0            80.0   \n",
       "11   Asian-Pac-Islander     Male           0.0           0.0            40.0   \n",
       "12                White   Female           0.0           0.0            30.0   \n",
       "13                Black     Male           0.0           0.0            50.0   \n",
       "14   Amer-Indian-Eskimo     Male           0.0           0.0            45.0   \n",
       "\n",
       "    native-country income  \n",
       "0    United-States  <=50K  \n",
       "1    United-States  <=50K  \n",
       "2    United-States  <=50K  \n",
       "3    United-States  <=50K  \n",
       "4             Cuba  <=50K  \n",
       "5    United-States  <=50K  \n",
       "6          Jamaica  <=50K  \n",
       "7    United-States   >50K  \n",
       "8    United-States   >50K  \n",
       "9    United-States   >50K  \n",
       "10   United-States   >50K  \n",
       "11           India   >50K  \n",
       "12   United-States  <=50K  \n",
       "13   United-States  <=50K  \n",
       "14          Mexico  <=50K  "
      ]
     },
     "metadata": {},
     "output_type": "display_data"
    }
   ],
   "source": [
    "# Import libraries necessary for this project\n",
    "import numpy as np\n",
    "import pandas as pd\n",
    "from time import time\n",
    "from IPython.display import display # Allows the use of display() for DataFrames\n",
    "\n",
    "# Import supplementary visualization code visuals.py\n",
    "import visuals as vs\n",
    "\n",
    "# Pretty display for notebooks\n",
    "%matplotlib inline\n",
    "\n",
    "# Load the Census dataset\n",
    "data = pd.read_csv(\"census.csv\")\n",
    "\n",
    "# Success - Display the first record\n",
    "display(data.head(n=15))"
   ]
  },
  {
   "cell_type": "markdown",
   "metadata": {},
   "source": [
    "### Implementation: Data Exploration\n",
    "A cursory investigation of the dataset will determine how many individuals fit into either group, and will tell us about the percentage of these individuals making more than \\$50,000. In the code cell below, you will need to compute the following:\n",
    "- The total number of records, `'n_records'`\n",
    "- The number of individuals making more than \\$50,000 annually, `'n_greater_50k'`.\n",
    "- The number of individuals making at most \\$50,000 annually, `'n_at_most_50k'`.\n",
    "- The percentage of individuals making more than \\$50,000 annually, `'greater_percent'`.\n",
    "\n",
    "** HINT: ** You may need to look at the table above to understand how the `'income'` entries are formatted. "
   ]
  },
  {
   "cell_type": "code",
   "execution_count": 2,
   "metadata": {},
   "outputs": [
    {
     "name": "stdout",
     "output_type": "stream",
     "text": [
      "Total number of records: 45222\n",
      "Individuals making more than $50,000: 11208\n",
      "Individuals making at most $50,000: 34014\n",
      "Percentage of individuals making more than $50,000: 24.78439697492371%\n"
     ]
    }
   ],
   "source": [
    "# TODO: Total number of records\n",
    "n_records = data.shape[0]\n",
    "\n",
    "# TODO: Number of records where individual's income is more than $50,000\n",
    "n_greater_50k = data[data['income'] == '>50K'].shape[0]\n",
    "\n",
    "# TODO: Number of records where individual's income is at most $50,000\n",
    "n_at_most_50k = data[data['income'] == '<=50K'].shape[0]\n",
    "\n",
    "# TODO: Percentage of individuals whose income is more than $50,000\n",
    "greater_percent = 100 * (n_greater_50k / n_records)\n",
    "\n",
    "# Print the results\n",
    "print(\"Total number of records: {}\".format(n_records))\n",
    "print(\"Individuals making more than $50,000: {}\".format(n_greater_50k))\n",
    "print(\"Individuals making at most $50,000: {}\".format(n_at_most_50k))\n",
    "print(\"Percentage of individuals making more than $50,000: {}%\".format(greater_percent))"
   ]
  },
  {
   "cell_type": "markdown",
   "metadata": {},
   "source": [
    "** Featureset Exploration **\n",
    "\n",
    "* **age**: continuous. \n",
    "* **workclass**: Private, Self-emp-not-inc, Self-emp-inc, Federal-gov, Local-gov, State-gov, Without-pay, Never-worked. \n",
    "* **education**: Bachelors, Some-college, 11th, HS-grad, Prof-school, Assoc-acdm, Assoc-voc, 9th, 7th-8th, 12th, Masters, 1st-4th, 10th, Doctorate, 5th-6th, Preschool. \n",
    "* **education-num**: continuous. \n",
    "* **marital-status**: Married-civ-spouse, Divorced, Never-married, Separated, Widowed, Married-spouse-absent, Married-AF-spouse. \n",
    "* **occupation**: Tech-support, Craft-repair, Other-service, Sales, Exec-managerial, Prof-specialty, Handlers-cleaners, Machine-op-inspct, Adm-clerical, Farming-fishing, Transport-moving, Priv-house-serv, Protective-serv, Armed-Forces. \n",
    "* **relationship**: Wife, Own-child, Husband, Not-in-family, Other-relative, Unmarried. \n",
    "* **race**: Black, White, Asian-Pac-Islander, Amer-Indian-Eskimo, Other. \n",
    "* **sex**: Female, Male. \n",
    "* **capital-gain**: continuous. \n",
    "* **capital-loss**: continuous. \n",
    "* **hours-per-week**: continuous. \n",
    "* **native-country**: United-States, Cambodia, England, Puerto-Rico, Canada, Germany, Outlying-US(Guam-USVI-etc), India, Japan, Greece, South, China, Cuba, Iran, Honduras, Philippines, Italy, Poland, Jamaica, Vietnam, Mexico, Portugal, Ireland, France, Dominican-Republic, Laos, Ecuador, Taiwan, Haiti, Columbia, Hungary, Guatemala, Nicaragua, Scotland, Thailand, Yugoslavia, El-Salvador, Trinadad&Tobago, Peru, Hong, Holand-Netherlands."
   ]
  },
  {
   "cell_type": "markdown",
   "metadata": {},
   "source": [
    "----\n",
    "## Preparing the Data\n",
    "Before data can be used as input for machine learning algorithms, it often must be cleaned, formatted, and restructured — this is typically known as **preprocessing**. Fortunately, for this dataset, there are no invalid or missing entries we must deal with, however, there are some qualities about certain features that must be adjusted. This preprocessing can help tremendously with the outcome and predictive power of nearly all learning algorithms."
   ]
  },
  {
   "cell_type": "markdown",
   "metadata": {},
   "source": [
    "### Transforming Skewed Continuous Features\n",
    "A dataset may sometimes contain at least one feature whose values tend to lie near a single number, but will also have a non-trivial number of vastly larger or smaller values than that single number.  Algorithms can be sensitive to such distributions of values and can underperform if the range is not properly normalized. With the census dataset two features fit this description: '`capital-gain'` and `'capital-loss'`. \n",
    "\n",
    "Run the code cell below to plot a histogram of these two features. Note the range of the values present and how they are distributed."
   ]
  },
  {
   "cell_type": "code",
   "execution_count": 3,
   "metadata": {},
   "outputs": [
    {
     "name": "stdout",
     "output_type": "stream",
     "text": [
      "['age' 'workclass' 'education_level' 'education-num' 'marital-status'\n",
      " 'occupation' 'relationship' 'race' 'sex' 'capital-gain' 'capital-loss'\n",
      " 'hours-per-week' 'native-country' 'income']\n"
     ]
    },
    {
     "data": {
      "image/png": "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\n",
      "text/plain": [
       "<Figure size 792x360 with 2 Axes>"
      ]
     },
     "metadata": {
      "needs_background": "light"
     },
     "output_type": "display_data"
    }
   ],
   "source": [
    "# Split the data into features and target label\n",
    "income_raw = data['income']\n",
    "features_raw = data.drop('income', axis = 1)\n",
    "\n",
    "print(data.columns.values)\n",
    "\n",
    "# Visualize skewed continuous features of original data\n",
    "vs.distribution(data)"
   ]
  },
  {
   "cell_type": "markdown",
   "metadata": {},
   "source": [
    "For highly-skewed feature distributions such as `'capital-gain'` and `'capital-loss'`, it is common practice to apply a <a href=\"https://en.wikipedia.org/wiki/Data_transformation_(statistics)\">logarithmic transformation</a> on the data so that the very large and very small values do not negatively affect the performance of a learning algorithm. Using a logarithmic transformation significantly reduces the range of values caused by outliers. Care must be taken when applying this transformation however: The logarithm of `0` is undefined, so we must translate the values by a small amount above `0` to apply the the logarithm successfully.\n",
    "\n",
    "Run the code cell below to perform a transformation on the data and visualize the results. Again, note the range of values and how they are distributed. "
   ]
  },
  {
   "cell_type": "code",
   "execution_count": 4,
   "metadata": {},
   "outputs": [
    {
     "data": {
      "image/png": "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\n",
      "text/plain": [
       "<Figure size 792x360 with 2 Axes>"
      ]
     },
     "metadata": {
      "needs_background": "light"
     },
     "output_type": "display_data"
    }
   ],
   "source": [
    "# Log-transform the skewed features\n",
    "skewed = ['capital-gain', 'capital-loss']\n",
    "features_log_transformed = pd.DataFrame(data = features_raw)\n",
    "features_log_transformed[skewed] = features_raw[skewed].apply(lambda x: np.log(x + 1))\n",
    "\n",
    "# Visualize the new log distributions\n",
    "vs.distribution(features_log_transformed, transformed = True)"
   ]
  },
  {
   "cell_type": "markdown",
   "metadata": {},
   "source": [
    "### Normalizing Numerical Features\n",
    "In addition to performing transformations on features that are highly skewed, it is often good practice to perform some type of scaling on numerical features. Applying a scaling to the data does not change the shape of each feature's distribution (such as `'capital-gain'` or `'capital-loss'` above); however, normalization ensures that each feature is treated equally when applying supervised learners. Note that once scaling is applied, observing the data in its raw form will no longer have the same original meaning, as exampled below.\n",
    "\n",
    "Run the code cell below to normalize each numerical feature. We will use [`sklearn.preprocessing.MinMaxScaler`](http://scikit-learn.org/stable/modules/generated/sklearn.preprocessing.MinMaxScaler.html) for this."
   ]
  },
  {
   "cell_type": "code",
   "execution_count": 5,
   "metadata": {},
   "outputs": [
    {
     "name": "stderr",
     "output_type": "stream",
     "text": [
      "c:\\data\\learning\\udacity machine learning\\solutions\\lib\\site-packages\\sklearn\\preprocessing\\data.py:323: DataConversionWarning: Data with input dtype int64, float64 were all converted to float64 by MinMaxScaler.\n",
      "  return self.partial_fit(X, y)\n"
     ]
    },
    {
     "data": {
      "text/html": [
       "<div>\n",
       "<style scoped>\n",
       "    .dataframe tbody tr th:only-of-type {\n",
       "        vertical-align: middle;\n",
       "    }\n",
       "\n",
       "    .dataframe tbody tr th {\n",
       "        vertical-align: top;\n",
       "    }\n",
       "\n",
       "    .dataframe thead th {\n",
       "        text-align: right;\n",
       "    }\n",
       "</style>\n",
       "<table border=\"1\" class=\"dataframe\">\n",
       "  <thead>\n",
       "    <tr style=\"text-align: right;\">\n",
       "      <th></th>\n",
       "      <th>age</th>\n",
       "      <th>workclass</th>\n",
       "      <th>education_level</th>\n",
       "      <th>education-num</th>\n",
       "      <th>marital-status</th>\n",
       "      <th>occupation</th>\n",
       "      <th>relationship</th>\n",
       "      <th>race</th>\n",
       "      <th>sex</th>\n",
       "      <th>capital-gain</th>\n",
       "      <th>capital-loss</th>\n",
       "      <th>hours-per-week</th>\n",
       "      <th>native-country</th>\n",
       "    </tr>\n",
       "  </thead>\n",
       "  <tbody>\n",
       "    <tr>\n",
       "      <th>0</th>\n",
       "      <td>0.301370</td>\n",
       "      <td>State-gov</td>\n",
       "      <td>Bachelors</td>\n",
       "      <td>0.800000</td>\n",
       "      <td>Never-married</td>\n",
       "      <td>Adm-clerical</td>\n",
       "      <td>Not-in-family</td>\n",
       "      <td>White</td>\n",
       "      <td>Male</td>\n",
       "      <td>0.667492</td>\n",
       "      <td>0.0</td>\n",
       "      <td>0.397959</td>\n",
       "      <td>United-States</td>\n",
       "    </tr>\n",
       "    <tr>\n",
       "      <th>1</th>\n",
       "      <td>0.452055</td>\n",
       "      <td>Self-emp-not-inc</td>\n",
       "      <td>Bachelors</td>\n",
       "      <td>0.800000</td>\n",
       "      <td>Married-civ-spouse</td>\n",
       "      <td>Exec-managerial</td>\n",
       "      <td>Husband</td>\n",
       "      <td>White</td>\n",
       "      <td>Male</td>\n",
       "      <td>0.000000</td>\n",
       "      <td>0.0</td>\n",
       "      <td>0.122449</td>\n",
       "      <td>United-States</td>\n",
       "    </tr>\n",
       "    <tr>\n",
       "      <th>2</th>\n",
       "      <td>0.287671</td>\n",
       "      <td>Private</td>\n",
       "      <td>HS-grad</td>\n",
       "      <td>0.533333</td>\n",
       "      <td>Divorced</td>\n",
       "      <td>Handlers-cleaners</td>\n",
       "      <td>Not-in-family</td>\n",
       "      <td>White</td>\n",
       "      <td>Male</td>\n",
       "      <td>0.000000</td>\n",
       "      <td>0.0</td>\n",
       "      <td>0.397959</td>\n",
       "      <td>United-States</td>\n",
       "    </tr>\n",
       "    <tr>\n",
       "      <th>3</th>\n",
       "      <td>0.493151</td>\n",
       "      <td>Private</td>\n",
       "      <td>11th</td>\n",
       "      <td>0.400000</td>\n",
       "      <td>Married-civ-spouse</td>\n",
       "      <td>Handlers-cleaners</td>\n",
       "      <td>Husband</td>\n",
       "      <td>Black</td>\n",
       "      <td>Male</td>\n",
       "      <td>0.000000</td>\n",
       "      <td>0.0</td>\n",
       "      <td>0.397959</td>\n",
       "      <td>United-States</td>\n",
       "    </tr>\n",
       "    <tr>\n",
       "      <th>4</th>\n",
       "      <td>0.150685</td>\n",
       "      <td>Private</td>\n",
       "      <td>Bachelors</td>\n",
       "      <td>0.800000</td>\n",
       "      <td>Married-civ-spouse</td>\n",
       "      <td>Prof-specialty</td>\n",
       "      <td>Wife</td>\n",
       "      <td>Black</td>\n",
       "      <td>Female</td>\n",
       "      <td>0.000000</td>\n",
       "      <td>0.0</td>\n",
       "      <td>0.397959</td>\n",
       "      <td>Cuba</td>\n",
       "    </tr>\n",
       "  </tbody>\n",
       "</table>\n",
       "</div>"
      ],
      "text/plain": [
       "        age          workclass education_level  education-num  \\\n",
       "0  0.301370          State-gov       Bachelors       0.800000   \n",
       "1  0.452055   Self-emp-not-inc       Bachelors       0.800000   \n",
       "2  0.287671            Private         HS-grad       0.533333   \n",
       "3  0.493151            Private            11th       0.400000   \n",
       "4  0.150685            Private       Bachelors       0.800000   \n",
       "\n",
       "        marital-status          occupation    relationship    race      sex  \\\n",
       "0        Never-married        Adm-clerical   Not-in-family   White     Male   \n",
       "1   Married-civ-spouse     Exec-managerial         Husband   White     Male   \n",
       "2             Divorced   Handlers-cleaners   Not-in-family   White     Male   \n",
       "3   Married-civ-spouse   Handlers-cleaners         Husband   Black     Male   \n",
       "4   Married-civ-spouse      Prof-specialty            Wife   Black   Female   \n",
       "\n",
       "   capital-gain  capital-loss  hours-per-week  native-country  \n",
       "0      0.667492           0.0        0.397959   United-States  \n",
       "1      0.000000           0.0        0.122449   United-States  \n",
       "2      0.000000           0.0        0.397959   United-States  \n",
       "3      0.000000           0.0        0.397959   United-States  \n",
       "4      0.000000           0.0        0.397959            Cuba  "
      ]
     },
     "metadata": {},
     "output_type": "display_data"
    }
   ],
   "source": [
    "# Import sklearn.preprocessing.StandardScaler\n",
    "from sklearn.preprocessing import MinMaxScaler\n",
    "\n",
    "# Initialize a scaler, then apply it to the features\n",
    "scaler = MinMaxScaler() # default=(0, 1)\n",
    "numerical = ['age', 'education-num', 'capital-gain', 'capital-loss', 'hours-per-week']\n",
    "\n",
    "features_log_minmax_transform = pd.DataFrame(data = features_log_transformed)\n",
    "features_log_minmax_transform[numerical] = scaler.fit_transform(features_log_transformed[numerical])\n",
    "\n",
    "# Show an example of a record with scaling applied\n",
    "display(features_log_minmax_transform.head(n = 5))"
   ]
  },
  {
   "cell_type": "markdown",
   "metadata": {},
   "source": [
    "### Implementation: Data Preprocessing\n",
    "\n",
    "From the table in **Exploring the Data** above, we can see there are several features for each record that are non-numeric. Typically, learning algorithms expect input to be numeric, which requires that non-numeric features (called *categorical variables*) be converted. One popular way to convert categorical variables is by using the **one-hot encoding** scheme. One-hot encoding creates a _\"dummy\"_ variable for each possible category of each non-numeric feature. For example, assume `someFeature` has three possible entries: `A`, `B`, or `C`. We then encode this feature into `someFeature_A`, `someFeature_B` and `someFeature_C`.\n",
    "\n",
    "|   | someFeature |                    | someFeature_A | someFeature_B | someFeature_C |\n",
    "| :-: | :-: |                            | :-: | :-: | :-: |\n",
    "| 0 |  B  |  | 0 | 1 | 0 |\n",
    "| 1 |  C  | ----> one-hot encode ----> | 0 | 0 | 1 |\n",
    "| 2 |  A  |  | 1 | 0 | 0 |\n",
    "\n",
    "Additionally, as with the non-numeric features, we need to convert the non-numeric target label, `'income'` to numerical values for the learning algorithm to work. Since there are only two possible categories for this label (\"<=50K\" and \">50K\"), we can avoid using one-hot encoding and simply encode these two categories as `0` and `1`, respectively. In code cell below, you will need to implement the following:\n",
    " - Use [`pandas.get_dummies()`](http://pandas.pydata.org/pandas-docs/stable/generated/pandas.get_dummies.html?highlight=get_dummies#pandas.get_dummies) to perform one-hot encoding on the `'features_log_minmax_transform'` data.\n",
    " - Convert the target label `'income_raw'` to numerical entries.\n",
    "   - Set records with \"<=50K\" to `0` and records with \">50K\" to `1`."
   ]
  },
  {
   "cell_type": "code",
   "execution_count": 6,
   "metadata": {
    "scrolled": true
   },
   "outputs": [
    {
     "name": "stdout",
     "output_type": "stream",
     "text": [
      "103 total features after one-hot encoding.\n"
     ]
    }
   ],
   "source": [
    "# TODO: One-hot encode the 'features_log_minmax_transform' data using pandas.get_dummies()\n",
    "features_final = pd.get_dummies(data = features_log_minmax_transform)\n",
    "\n",
    "# TODO: Encode the 'income_raw' data to numerical values\n",
    "income = income_raw.apply(lambda x: 1 if x == '>50K' else 0)\n",
    "\n",
    "# Print the number of features after one-hot encoding\n",
    "encoded = list(features_final.columns)\n",
    "print(\"{} total features after one-hot encoding.\".format(len(encoded)))\n",
    "\n",
    "# Uncomment the following line to see the encoded feature names\n",
    "# print encoded"
   ]
  },
  {
   "cell_type": "markdown",
   "metadata": {},
   "source": [
    "### Shuffle and Split Data\n",
    "Now all _categorical variables_ have been converted into numerical features, and all numerical features have been normalized. As always, we will now split the data (both features and their labels) into training and test sets. 80% of the data will be used for training and 20% for testing.\n",
    "\n",
    "Run the code cell below to perform this split."
   ]
  },
  {
   "cell_type": "code",
   "execution_count": 7,
   "metadata": {},
   "outputs": [
    {
     "name": "stdout",
     "output_type": "stream",
     "text": [
      "Training set has 36177 samples.\n",
      "Testing set has 9045 samples.\n"
     ]
    }
   ],
   "source": [
    "# Import train_test_split\n",
    "from sklearn.model_selection import train_test_split\n",
    "\n",
    "# Split the 'features' and 'income' data into training and testing sets\n",
    "X_train, X_test, y_train, y_test = train_test_split(features_final, \n",
    "                                                    income, \n",
    "                                                    test_size = 0.2, \n",
    "                                                    random_state = 0)\n",
    "\n",
    "# Show the results of the split\n",
    "print(\"Training set has {} samples.\".format(X_train.shape[0]))\n",
    "print(\"Testing set has {} samples.\".format(X_test.shape[0]))"
   ]
  },
  {
   "cell_type": "markdown",
   "metadata": {},
   "source": [
    "----\n",
    "## Evaluating Model Performance\n",
    "In this section, we will investigate four different algorithms, and determine which is best at modeling the data. Three of these algorithms will be supervised learners of your choice, and the fourth algorithm is known as a *naive predictor*."
   ]
  },
  {
   "cell_type": "markdown",
   "metadata": {},
   "source": [
    "### Metrics and the Naive Predictor\n",
    "*CharityML*, equipped with their research, knows individuals that make more than \\$50,000 are most likely to donate to their charity. Because of this, *CharityML* is particularly interested in predicting who makes more than \\$50,000 accurately. It would seem that using **accuracy** as a metric for evaluating a particular model's performace would be appropriate. Additionally, identifying someone that *does not* make more than \\$50,000 as someone who does would be detrimental to *CharityML*, since they are looking to find individuals willing to donate. Therefore, a model's ability to precisely predict those that make more than \\$50,000 is *more important* than the model's ability to **recall** those individuals. We can use **F-beta score** as a metric that considers both precision and recall:\n",
    "\n",
    "$$ F_{\\beta} = (1 + \\beta^2) \\cdot \\frac{precision \\cdot recall}{\\left( \\beta^2 \\cdot precision \\right) + recall} $$\n",
    "\n",
    "In particular, when $\\beta = 0.5$, more emphasis is placed on precision. This is called the **F$_{0.5}$ score** (or F-score for simplicity).\n",
    "\n",
    "Looking at the distribution of classes (those who make at most \\$50,000, and those who make more), it's clear most individuals do not make more than \\$50,000. This can greatly affect **accuracy**, since we could simply say *\"this person does not make more than \\$50,000\"* and generally be right, without ever looking at the data! Making such a statement would be called **naive**, since we have not considered any information to substantiate the claim. It is always important to consider the *naive prediction* for your data, to help establish a benchmark for whether a model is performing well. That been said, using that prediction would be pointless: If we predicted all people made less than \\$50,000, *CharityML* would identify no one as donors. \n",
    "\n",
    "\n",
    "#### Note: Recap of accuracy, precision, recall\n",
    "\n",
    "** Accuracy ** measures how often the classifier makes the correct prediction. It’s the ratio of the number of correct predictions to the total number of predictions (the number of test data points).\n",
    "\n",
    "** Precision ** tells us what proportion of messages we classified as spam, actually were spam.\n",
    "It is a ratio of true positives(words classified as spam, and which are actually spam) to all positives(all words classified as spam, irrespective of whether that was the correct classificatio), in other words it is the ratio of\n",
    "\n",
    "`[True Positives/(True Positives + False Positives)]`\n",
    "\n",
    "** Recall(sensitivity)** tells us what proportion of messages that actually were spam were classified by us as spam.\n",
    "It is a ratio of true positives(words classified as spam, and which are actually spam) to all the words that were actually spam, in other words it is the ratio of\n",
    "\n",
    "`[True Positives/(True Positives + False Negatives)]`\n",
    "\n",
    "For classification problems that are skewed in their classification distributions like in our case, for example if we had a 100 text messages and only 2 were spam and the rest 98 weren't, accuracy by itself is not a very good metric. We could classify 90 messages as not spam(including the 2 that were spam but we classify them as not spam, hence they would be false negatives) and 10 as spam(all 10 false positives) and still get a reasonably good accuracy score. For such cases, precision and recall come in very handy. These two metrics can be combined to get the F1 score, which is weighted average(harmonic mean) of the precision and recall scores. This score can range from 0 to 1, with 1 being the best possible F1 score(we take the harmonic mean as we are dealing with ratios)."
   ]
  },
  {
   "cell_type": "markdown",
   "metadata": {},
   "source": [
    "### Question 1 - Naive Predictor Performace\n",
    "* If we chose a model that always predicted an individual made more than $50,000, what would  that model's accuracy and F-score be on this dataset? You must use the code cell below and assign your results to `'accuracy'` and `'fscore'` to be used later.\n",
    "\n",
    "** Please note ** that the the purpose of generating a naive predictor is simply to show what a base model without any intelligence would look like. In the real world, ideally your base model would be either the results of a previous model or could be based on a research paper upon which you are looking to improve. When there is no benchmark model set, getting a result better than random choice is a place you could start from.\n",
    "\n",
    "** HINT: ** \n",
    "\n",
    "* When we have a model that always predicts '1' (i.e. the individual makes more than 50k) then our model will have no True Negatives(TN) or False Negatives(FN) as we are not making any negative('0' value) predictions. Therefore our Accuracy in this case becomes the same as our Precision(True Positives/(True Positives + False Positives)) as every prediction that we have made with value '1' that should have '0' becomes a False Positive; therefore our denominator in this case is the total number of records we have in total. \n",
    "* Our Recall score(True Positives/(True Positives + False Negatives)) in this setting becomes 1 as we have no False Negatives."
   ]
  },
  {
   "cell_type": "code",
   "execution_count": 8,
   "metadata": {},
   "outputs": [
    {
     "name": "stdout",
     "output_type": "stream",
     "text": [
      "Naive Predictor: [Accuracy score: 0.2478, F-score: 0.2917]\n"
     ]
    }
   ],
   "source": [
    "'''\n",
    "TP = np.sum(income) # Counting the ones as this is the naive case. Note that 'income' is the 'income_raw' data \n",
    "encoded to numerical values done in the data preprocessing step.\n",
    "FP = income.count() - TP # Specific to the naive case\n",
    "\n",
    "TN = 0 # No predicted negatives in the naive case\n",
    "FN = 0 # No predicted negatives in the naive case\n",
    "'''\n",
    "# TODO: Calculate accuracy, precision and recall\n",
    "accuracy = 1 - (np.sum(income) / income.count())\n",
    "recall = 1.0\n",
    "precision = accuracy\n",
    "\n",
    "# TODO: Calculate F-score using the formula above for beta = 0.5 and correct values for precision and recall.\n",
    "fscore = ((1 + 0.25) * precision * recall) / ((0.25 * precision) + recall)\n",
    "\n",
    "# Print the results \n",
    "print(\"Naive Predictor: [Accuracy score: {:.4f}, F-score: {:.4f}]\".format(accuracy, fscore))"
   ]
  },
  {
   "cell_type": "markdown",
   "metadata": {},
   "source": [
    "###  Supervised Learning Models\n",
    "**The following are some of the supervised learning models that are currently available in** [`scikit-learn`](http://scikit-learn.org/stable/supervised_learning.html) **that you may choose from:**\n",
    "- Gaussian Naive Bayes (GaussianNB)\n",
    "- Decision Trees\n",
    "- Ensemble Methods (Bagging, AdaBoost, Random Forest, Gradient Boosting)\n",
    "- K-Nearest Neighbors (KNeighbors)\n",
    "- Stochastic Gradient Descent Classifier (SGDC)\n",
    "- Support Vector Machines (SVM)\n",
    "- Logistic Regression"
   ]
  },
  {
   "cell_type": "markdown",
   "metadata": {},
   "source": [
    "### Question 2 - Model Application\n",
    "List three of the supervised learning models above that are appropriate for this problem that you will test on the census data. For each model chosen\n",
    "\n",
    "- Describe one real-world application in industry where the model can be applied. \n",
    "- What are the strengths of the model; when does it perform well?\n",
    "- What are the weaknesses of the model; when does it perform poorly?\n",
    "- What makes this model a good candidate for the problem, given what you know about the data?\n",
    "\n",
    "** HINT: **\n",
    "\n",
    "Structure your answer in the same format as above^, with 4 parts for each of the three models you pick. Please include references with your answer."
   ]
  },
  {
   "cell_type": "markdown",
   "metadata": {},
   "source": [
    "**Answer:**\n",
    "Models picked: Decision Trees, Random Forest, Support Vector Machines\n",
    "\n",
    "**Decision Trees**\n",
    "- Real-world application: Recommender systems (e.g. recommending products to an online shopper according to their profile characteristics: age, location, education, family size etc). Note that this suits first time, newly registered shoppers. (With shoppers who have a long enough history of purchases, a different recommender model can be put in place, based more on their preferences, rather than on profile characteristics).\n",
    "- Strengths: Results сan be easily interpreted, e.g. particular products are popular with married men who have higher education and age >45. Performs well on data where decisions can be made by assigning certain thresholds on values of different continuous features, and particular values or ranges of categorical features.\n",
    "- Weaknesses: Tends to overfit training data, so requires hyper-parameter tuning (min_leaf_split, max_depth etc). Performs poorly when correlations between features and target are non-linear and complex, and cannot be easily expressed with thresholds or ranges.\n",
    "- Given the data, it seems that relashionships between features and income possibly can be expressed with thresholds, e.g. with age it is probably certain productive period of life ( > 18 and < 65); with workclass it is probably that certain categories cannot be considered as making more than 50K e.g. 'Without-pay'; with education - certain education level tends to help people earn more money, etc.\n",
    "\n",
    "**Random Forest**\n",
    "\n",
    "All the answers pertaining to Decision Trees can be applied here, except Random Forrest purpose is to eliminate the main weakness of the Decision Tree, namely overfitting. Basically this is an Ensemple technique for Decision Trees.\n",
    "Still, the weakness could be that now it requires N models to be trained instead of just one, so more computational power is required. Besides, N becomes another hyper-parameter to be tuned, along with the number of features to randomly select for each tree in the forrest.\n",
    "\n",
    "**Support Vector Machines**\n",
    "- Real-world application: Any linear problem, or non-linear problem that can be reduced to linear with a polynomial function (polynomial kernel), or when data forms clusters in terms of similar values of some features in certain ranges tend to belong to the same class (rbf kernel). \n",
    "- Strengths: Can be somewhat interpreted, by visualizing a hyperplane, or surface in hyper-space separating the data. Certain conclusions may become possible from such visualization, that were otherwise unclear. Another strength is that due to kernels a wide range of non-linear problems can be covered with these models without getting into models that require much bigger computational power like deep neural networks. \n",
    "- Weaknesses: Requires hyper parameter tuning, not clear what kernel function to use with non-linear problems. Performs poorly (in my opinion) when features and labels correlate in a non-linear way that is hard to express with a single polynomial, or a weighted sum of gaussian (single-peak) functions, e.g. spirals or fractal-like structures. Another weakness is that with rbf kernel and a large value of gamma (very high peaky functions) it will tend to overfit. Another weakness yet, is that it is that SVM takes more computational power to train.\n",
    "- Given the data, I think it is more or less safe to assume that correlations in data do not have extremely complex nature. They are probably not linear, but rbf kernel may produce reasonable accuracy.\n",
    "\n"
   ]
  },
  {
   "cell_type": "markdown",
   "metadata": {},
   "source": [
    "### Implementation - Creating a Training and Predicting Pipeline\n",
    "To properly evaluate the performance of each model you've chosen, it's important that you create a training and predicting pipeline that allows you to quickly and effectively train models using various sizes of training data and perform predictions on the testing data. Your implementation here will be used in the following section.\n",
    "In the code block below, you will need to implement the following:\n",
    " - Import `fbeta_score` and `accuracy_score` from [`sklearn.metrics`](http://scikit-learn.org/stable/modules/classes.html#sklearn-metrics-metrics).\n",
    " - Fit the learner to the sampled training data and record the training time.\n",
    " - Perform predictions on the test data `X_test`, and also on the first 300 training points `X_train[:300]`.\n",
    "   - Record the total prediction time.\n",
    " - Calculate the accuracy score for both the training subset and testing set.\n",
    " - Calculate the F-score for both the training subset and testing set.\n",
    "   - Make sure that you set the `beta` parameter!"
   ]
  },
  {
   "cell_type": "code",
   "execution_count": 9,
   "metadata": {},
   "outputs": [],
   "source": [
    "# TODO: Import two metrics from sklearn - fbeta_score and accuracy_score\n",
    "from sklearn.metrics import fbeta_score, accuracy_score \n",
    "\n",
    "def train_predict(learner, sample_size, X_train, y_train, X_test, y_test): \n",
    "    '''\n",
    "    inputs:\n",
    "       - learner: the learning algorithm to be trained and predicted on\n",
    "       - sample_size: the size of samples (number) to be drawn from training set\n",
    "       - X_train: features training set\n",
    "       - y_train: income training set\n",
    "       - X_test: features testing set\n",
    "       - y_test: income testing set\n",
    "    '''\n",
    "    \n",
    "    results = {}\n",
    "    \n",
    "    # TODO: Fit the learner to the training data using slicing with 'sample_size' using .fit(training_features[:], training_labels[:])\n",
    "    start = time() # Get start time\n",
    "    learner = learner.fit(X_train, y_train)\n",
    "    end = time() # Get end time\n",
    "    \n",
    "    # TODO: Calculate the training time\n",
    "    results['train_time'] = end - start\n",
    "        \n",
    "    # TODO: Get the predictions on the test set(X_test),\n",
    "    #       then get predictions on the first 300 training samples(X_train) using .predict()\n",
    "    start = time() # Get start time\n",
    "    predictions_test = learner.predict(X_test)\n",
    "    predictions_train = learner.predict(X_train[:300])\n",
    "    end = time() # Get end time\n",
    "    \n",
    "    # TODO: Calculate the total prediction time\n",
    "    results['pred_time'] = end - start\n",
    "            \n",
    "    # TODO: Compute accuracy on the first 300 training samples which is y_train[:300]\n",
    "    results['acc_train'] = accuracy_score(y_train[:300], predictions_train)\n",
    "        \n",
    "    # TODO: Compute accuracy on test set using accuracy_score()\n",
    "    results['acc_test'] = accuracy_score(y_test, predictions_test)\n",
    "    \n",
    "    # TODO: Compute F-score on the the first 300 training samples using fbeta_score()\n",
    "    results['f_train'] = fbeta_score(y_train[:300], predictions_train, beta=0.5)\n",
    "        \n",
    "    # TODO: Compute F-score on the test set which is y_test\n",
    "    results['f_test'] = fbeta_score(y_test, predictions_test, beta=0.5)\n",
    "       \n",
    "    # Success\n",
    "    print(\"{} trained on {} samples. Accuracy (train,test): ({},{})\".format(learner.__class__.__name__, sample_size, results['acc_train'], results['acc_test']))\n",
    "        \n",
    "    # Return the results\n",
    "    return results"
   ]
  },
  {
   "cell_type": "markdown",
   "metadata": {},
   "source": [
    "### Implementation: Initial Model Evaluation\n",
    "In the code cell, you will need to implement the following:\n",
    "- Import the three supervised learning models you've discussed in the previous section.\n",
    "- Initialize the three models and store them in `'clf_A'`, `'clf_B'`, and `'clf_C'`.\n",
    "  - Use a `'random_state'` for each model you use, if provided.\n",
    "  - **Note:** Use the default settings for each model — you will tune one specific model in a later section.\n",
    "- Calculate the number of records equal to 1%, 10%, and 100% of the training data.\n",
    "  - Store those values in `'samples_1'`, `'samples_10'`, and `'samples_100'` respectively.\n",
    "\n",
    "**Note:** Depending on which algorithms you chose, the following implementation may take some time to run!"
   ]
  },
  {
   "cell_type": "code",
   "execution_count": 10,
   "metadata": {
    "scrolled": true
   },
   "outputs": [
    {
     "name": "stdout",
     "output_type": "stream",
     "text": [
      "DecisionTreeClassifier trained on 361 samples.\n",
      "DecisionTreeClassifier trained on 3617 samples.\n",
      "DecisionTreeClassifier trained on 36177 samples.\n"
     ]
    },
    {
     "name": "stderr",
     "output_type": "stream",
     "text": [
      "c:\\data\\learning\\udacity machine learning\\solutions\\lib\\site-packages\\sklearn\\ensemble\\forest.py:246: FutureWarning: The default value of n_estimators will change from 10 in version 0.20 to 100 in 0.22.\n",
      "  \"10 in version 0.20 to 100 in 0.22.\", FutureWarning)\n"
     ]
    },
    {
     "name": "stdout",
     "output_type": "stream",
     "text": [
      "RandomForestClassifier trained on 361 samples.\n",
      "RandomForestClassifier trained on 3617 samples.\n",
      "RandomForestClassifier trained on 36177 samples.\n"
     ]
    },
    {
     "name": "stderr",
     "output_type": "stream",
     "text": [
      "c:\\data\\learning\\udacity machine learning\\solutions\\lib\\site-packages\\sklearn\\svm\\base.py:196: FutureWarning: The default value of gamma will change from 'auto' to 'scale' in version 0.22 to account better for unscaled features. Set gamma explicitly to 'auto' or 'scale' to avoid this warning.\n",
      "  \"avoid this warning.\", FutureWarning)\n"
     ]
    },
    {
     "name": "stdout",
     "output_type": "stream",
     "text": [
      "SVC trained on 361 samples.\n"
     ]
    },
    {
     "name": "stderr",
     "output_type": "stream",
     "text": [
      "c:\\data\\learning\\udacity machine learning\\solutions\\lib\\site-packages\\sklearn\\svm\\base.py:196: FutureWarning: The default value of gamma will change from 'auto' to 'scale' in version 0.22 to account better for unscaled features. Set gamma explicitly to 'auto' or 'scale' to avoid this warning.\n",
      "  \"avoid this warning.\", FutureWarning)\n"
     ]
    },
    {
     "name": "stdout",
     "output_type": "stream",
     "text": [
      "SVC trained on 3617 samples.\n"
     ]
    },
    {
     "name": "stderr",
     "output_type": "stream",
     "text": [
      "c:\\data\\learning\\udacity machine learning\\solutions\\lib\\site-packages\\sklearn\\svm\\base.py:196: FutureWarning: The default value of gamma will change from 'auto' to 'scale' in version 0.22 to account better for unscaled features. Set gamma explicitly to 'auto' or 'scale' to avoid this warning.\n",
      "  \"avoid this warning.\", FutureWarning)\n"
     ]
    },
    {
     "name": "stdout",
     "output_type": "stream",
     "text": [
      "SVC trained on 36177 samples.\n"
     ]
    },
    {
     "data": {
      "image/png": "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\n",
      "text/plain": [
       "<Figure size 792x504 with 8 Axes>"
      ]
     },
     "metadata": {
      "needs_background": "light"
     },
     "output_type": "display_data"
    }
   ],
   "source": [
    "# TODO: Import the three supervised learning models from sklearn\n",
    "from sklearn.tree import DecisionTreeClassifier\n",
    "from sklearn.ensemble import RandomForestClassifier\n",
    "from sklearn.svm import SVC\n",
    "\n",
    "# TODO: Initialize the three models\n",
    "clf_A = DecisionTreeClassifier()\n",
    "clf_B = RandomForestClassifier()\n",
    "clf_C = SVC()\n",
    "\n",
    "# TODO: Calculate the number of samples for 1%, 10%, and 100% of the training data\n",
    "# HINT: samples_100 is the entire training set i.e. len(y_train)\n",
    "# HINT: samples_10 is 10% of samples_100 (ensure to set the count of the values to be `int` and not `float`)\n",
    "# HINT: samples_1 is 1% of samples_100 (ensure to set the count of the values to be `int` and not `float`)\n",
    "samples_100 = len(y_train)\n",
    "samples_10 = (int)(samples_100 / 10)\n",
    "samples_1 = (int)(samples_100 / 100)\n",
    "\n",
    "# Collect results on the learners\n",
    "results = {}\n",
    "for clf in [clf_A, clf_B, clf_C]:\n",
    "    clf_name = clf.__class__.__name__\n",
    "    results[clf_name] = {}\n",
    "    for i, samples in enumerate([samples_1, samples_10, samples_100]):\n",
    "        results[clf_name][i] = \\\n",
    "        train_predict(clf, samples, X_train, y_train, X_test, y_test)\n",
    "\n",
    "# Run metrics visualization for the three supervised learning models chosen\n",
    "vs.evaluate(results, accuracy, fscore)\n"
   ]
  },
  {
   "cell_type": "markdown",
   "metadata": {},
   "source": [
    "----\n",
    "## Improving Results\n",
    "In this final section, you will choose from the three supervised learning models the *best* model to use on the student data. You will then perform a grid search optimization for the model over the entire training set (`X_train` and `y_train`) by tuning at least one parameter to improve upon the untuned model's F-score. "
   ]
  },
  {
   "cell_type": "markdown",
   "metadata": {},
   "source": [
    "### Question 3 - Choosing the Best Model\n",
    "\n",
    "* Based on the evaluation you performed earlier, in one to two paragraphs, explain to *CharityML* which of the three models you believe to be most appropriate for the task of identifying individuals that make more than \\$50,000. \n",
    "\n",
    "** HINT: ** \n",
    "Look at the graph at the bottom left from the cell above(the visualization created by `vs.evaluate(results, accuracy, fscore)`) and check the F score for the testing set when 100% of the training set is used. Which model has the highest score? Your answer should include discussion of the:\n",
    "* metrics - F score on the testing when 100% of the training data is used, \n",
    "* prediction/training time\n",
    "* the algorithm's suitability for the data."
   ]
  },
  {
   "cell_type": "markdown",
   "metadata": {},
   "source": [
    "**Answer:**\n",
    "\n",
    "I believe *CharityML* should use Random Forrest.\n",
    "\n",
    "- metrics - F-score on 100% test data is almost the same on Random Forrest and SVM \n",
    "- time - SVM takes x100 more time to train, and to predict. 3-4 minutes per model may not seem big, but we're going to optimize using Grid Search, so the time will turn into many hours(!) for SVM, so hundreds of times less time could be important to us, especially that being a charity we do not have powerful computers in the IT Dept. This is why using Random Forrest is advantageous, taking into account equal performance on test data.\n",
    "- suitability - As stated above, our positive points very likely lie within certain ranges or can be described with thresholds, e.g. certain age interval, certain educational types, capital gain over some value, etc. Decision Trees / Random Forrests are very good at such problems. Besides, we see that Random Forrest was able to fit (overfit) the training data pretty well, so we just need to apply some generalization techniques to reduce overfitting, and Random Forrest has a number of parameters we could play with, that do precisely that (reduce overfitting)."
   ]
  },
  {
   "cell_type": "markdown",
   "metadata": {},
   "source": [
    "### Question 4 - Describing the Model in Layman's Terms\n",
    "\n",
    "* In one to two paragraphs, explain to *CharityML*, in layman's terms, how the final model chosen is supposed to work. Be sure that you are describing the major qualities of the model, such as how the model is trained and how the model makes a prediction. Avoid using advanced mathematical jargon, such as describing equations.\n",
    "\n",
    "** HINT: **\n",
    "\n",
    "When explaining your model, if using external resources please include all citations."
   ]
  },
  {
   "cell_type": "markdown",
   "metadata": {},
   "source": [
    "**Answer:**\n",
    "\n",
    "Our Model (Random Forrest) is an Emsemble of Decision Trees. Each Decision Tree takes a random number of features and learns decision boundary thresholds, ranges etc. in order to fit trained data. So far so good, but each of them may tend to overfit, so to generalize well, we will have them vote when we predict on unseen data. "
   ]
  },
  {
   "cell_type": "markdown",
   "metadata": {},
   "source": [
    "### Implementation: Model Tuning\n",
    "Fine tune the chosen model. Use grid search (`GridSearchCV`) with at least one important parameter tuned with at least 3 different values. You will need to use the entire training set for this. In the code cell below, you will need to implement the following:\n",
    "- Import [`sklearn.grid_search.GridSearchCV`](http://scikit-learn.org/0.17/modules/generated/sklearn.grid_search.GridSearchCV.html) and [`sklearn.metrics.make_scorer`](http://scikit-learn.org/stable/modules/generated/sklearn.metrics.make_scorer.html).\n",
    "- Initialize the classifier you've chosen and store it in `clf`.\n",
    " - Set a `random_state` if one is available to the same state you set before.\n",
    "- Create a dictionary of parameters you wish to tune for the chosen model.\n",
    " - Example: `parameters = {'parameter' : [list of values]}`.\n",
    " - **Note:** Avoid tuning the `max_features` parameter of your learner if that parameter is available!\n",
    "- Use `make_scorer` to create an `fbeta_score` scoring object (with $\\beta = 0.5$).\n",
    "- Perform grid search on the classifier `clf` using the `'scorer'`, and store it in `grid_obj`.\n",
    "- Fit the grid search object to the training data (`X_train`, `y_train`), and store it in `grid_fit`.\n",
    "\n",
    "**Note:** Depending on the algorithm chosen and the parameter list, the following implementation may take some time to run!"
   ]
  },
  {
   "cell_type": "code",
   "execution_count": 40,
   "metadata": {},
<<<<<<< HEAD
   "outputs": [
    {
     "name": "stdout",
     "output_type": "stream",
     "text": [
      "### Best estimator: RandomForestClassifier(bootstrap=True, class_weight=None, criterion='gini',\n",
      "            max_depth=20, max_features='auto', max_leaf_nodes=None,\n",
      "            min_impurity_decrease=0.0, min_impurity_split=None,\n",
      "            min_samples_leaf=1, min_samples_split=20,\n",
      "            min_weight_fraction_leaf=0.0, n_estimators=15, n_jobs=None,\n",
      "            oob_score=False, random_state=None, verbose=0,\n",
      "            warm_start=False)\n"
     ]
    },
    {
     "name": "stderr",
     "output_type": "stream",
     "text": [
      "c:\\users\\glungu\\pythonjupyter\\lib\\site-packages\\sklearn\\ensemble\\forest.py:246: FutureWarning: The default value of n_estimators will change from 10 in version 0.20 to 100 in 0.22.\n",
      "  \"10 in version 0.20 to 100 in 0.22.\", FutureWarning)\n"
     ]
    },
    {
     "name": "stdout",
     "output_type": "stream",
     "text": [
      "Unoptimized model\n",
      "------\n",
      "Accuracy score on testing data: 0.8346\n",
      "F-score on testing data: 0.6643\n",
      "\n",
      "Optimized Model\n",
      "------\n",
      "Final accuracy score on the testing data: 0.8600\n",
      "Final F-score on the testing data: 0.7314\n"
     ]
    }
   ],
   "outputs": [],
   "source": [
    "# TODO: Import 'GridSearchCV', 'make_scorer', and any other necessary libraries\n",
    "from sklearn.model_selection import GridSearchCV \n",
    "from sklearn.metrics import make_scorer, fbeta_score\n",
    "from sklearn.svm import SVC\n",
    "from sklearn.ensemble import RandomForestClassifier\n",
    "\n",
    "# TODO: Initialize the classifier\n",
    "clf = RandomForestClassifier()\n",
    "\n",
    "# TODO: Create the parameters list you wish to tune, using a dictionary if needed.\n",
    "# HINT: parameters = {'parameter_1': [value1, value2], 'parameter_2': [value1, value2]}\n",
    "parameters = {'max_depth': [7, 10, 12, 15, 18, 20], \"min_samples_split\": [2, 10, 20, 30], \"n_estimators\": [10, 15]}\n",
    "\n",
    "# TODO: Make an fbeta_score scoring object using make_scorer()\n",
    "scorer = make_scorer(fbeta_score, beta=0.5)\n",
    "\n",
    "# TODO: Perform grid search on the classifier using 'scorer' as the scoring method using GridSearchCV()\n",
    "grid_obj = GridSearchCV(estimator=clf, param_grid=parameters, scoring=scorer, cv=3)\n",
    "\n",
    "# TODO: Fit the grid search object to the training data and find the optimal parameters using fit()\n",
    "grid_fit = grid_obj.fit(X_train, y_train) \n",
    "\n",
    "# Get the estimator\n",
    "best_clf = grid_fit.best_estimator_\n",
    "print('### Best estimator:', best_clf)\n",
    "\n",
    "# Make predictions using the unoptimized and model\n",
    "predictions = (clf.fit(X_train, y_train)).predict(X_test)\n",
    "best_predictions = best_clf.predict(X_test)\n",
    "\n",
    "# Report the before-and-afterscores\n",
    "print(\"Unoptimized model\\n------\")\n",
    "print(\"Accuracy score on testing data: {:.4f}\".format(accuracy_score(y_test, predictions)))\n",
    "print(\"F-score on testing data: {:.4f}\".format(fbeta_score(y_test, predictions, beta = 0.5)))\n",
    "print(\"\\nOptimized Model\\n------\")\n",
    "print(\"Final accuracy score on the testing data: {:.4f}\".format(accuracy_score(y_test, best_predictions)))\n",
    "print(\"Final F-score on the testing data: {:.4f}\".format(fbeta_score(y_test, best_predictions, beta = 0.5)))"
   ]
  },
  {
   "cell_type": "markdown",
   "metadata": {},
   "source": [
    "### Question 5 - Final Model Evaluation\n",
    "\n",
    "* What is your optimized model's accuracy and F-score on the testing data? \n",
    "* Are these scores better or worse than the unoptimized model? \n",
    "* How do the results from your optimized model compare to the naive predictor benchmarks you found earlier in **Question 1**?_  \n",
    "\n",
    "**Note:** Fill in the table below with your results, and then provide discussion in the **Answer** box."
   ]
  },
  {
   "cell_type": "markdown",
   "metadata": {},
   "source": [
    "#### Results:\n",
    "\n",
    "|     Metric     | Unoptimized Model | Optimized Model |\n",
    "| :------------: | :---------------: | :-------------: | \n",
    "| Accuracy Score |  0.8346           |   0.8600        |\n",
    "| F-score        |  0.6643           |   0.7314        |\n"
   ]
  },
  {
   "cell_type": "markdown",
   "metadata": {},
   "source": [
    "**Answer:**\n",
    "\n",
    "- The score is considerably better on optimized model, I think grid search was able to find RandomForest Model that reduced overfitting, as train and test scores are much closer now.\n",
    "- With naive model we had accuracy score: 0.2478, F-score: 0.2917. We did much better on both un-optimized and optimized model. "
   ]
  },
  {
   "cell_type": "markdown",
   "metadata": {},
   "source": [
    "----\n",
    "## Feature Importance\n",
    "\n",
    "An important task when performing supervised learning on a dataset like the census data we study here is determining which features provide the most predictive power. By focusing on the relationship between only a few crucial features and the target label we simplify our understanding of the phenomenon, which is most always a useful thing to do. In the case of this project, that means we wish to identify a small number of features that most strongly predict whether an individual makes at most or more than \\$50,000.\n",
    "\n",
    "Choose a scikit-learn classifier (e.g., adaboost, random forests) that has a `feature_importance_` attribute, which is a function that ranks the importance of features according to the chosen classifier.  In the next python cell fit this classifier to training set and use this attribute to determine the top 5 most important features for the census dataset."
   ]
  },
  {
   "cell_type": "markdown",
   "metadata": {},
   "source": [
    "### Question 6 - Feature Relevance Observation\n",
    "When **Exploring the Data**, it was shown there are thirteen available features for each individual on record in the census data. Of these thirteen records, which five features do you believe to be most important for prediction, and in what order would you rank them and why?"
   ]
  },
  {
   "cell_type": "markdown",
   "metadata": {},
   "source": [
    "**Answer:**\n",
    "\n",
    "- **capital-gain** - in conjunction with capital-loss directly affects income\n",
    "- **capital-loss** - in conjunction with capital-gain directly affects income\n",
    "- **education** - I believe usually there's strong correlation with income, the better a person is educated, the higher the income (not always of course, but correlation should be high)\n",
    "- **hours-per-week** - usually directly affects income (unless a person's income come from sources other than work, e.g. financial assets, but the percentage of such people probably not very large) \n",
    "- **age** - income tends to be higher during certain age periods (e.g. 30 to 50 when a person has gained some skills and expertise, and actively applies it), and lower during others (e.g. 18 to 25 when a person is studying or yet gaining skills and experience)\n"
   ]
  },
  {
   "cell_type": "markdown",
   "metadata": {},
   "source": [
    "### Implementation - Extracting Feature Importance\n",
    "Choose a `scikit-learn` supervised learning algorithm that has a `feature_importance_` attribute availble for it. This attribute is a function that ranks the importance of each feature when making predictions based on the chosen algorithm.\n",
    "\n",
    "In the code cell below, you will need to implement the following:\n",
    " - Import a supervised learning model from sklearn if it is different from the three used earlier.\n",
    " - Train the supervised model on the entire training set.\n",
    " - Extract the feature importances using `'.feature_importances_'`."
   ]
  },
  {
   "cell_type": "code",
   "execution_count": 49,
   "metadata": {},
   "outputs": [
    {
     "data": {
      "image/png": "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\n",
      "text/plain": [
       "<Figure size 648x360 with 1 Axes>"
      ]
     },
     "metadata": {
      "needs_background": "light"
     },
     "output_type": "display_data"
    },
    {
     "name": "stdout",
     "output_type": "stream",
     "text": [
      "### AdaBoost. Test accuracy: 0.8685461580983969 Test beta: 0.742539200809307\n"
     ]
    }
   ],
   "source": [
    "# TODO: Import a supervised learning model that has 'feature_importances_'\n",
    "from sklearn.ensemble import AdaBoostClassifier\n",
    "\n",
    "# TODO: Train the supervised model on the training set using .fit(X_train, y_train)\n",
    "model = AdaBoostClassifier(DecisionTreeClassifier(max_depth=3))\n",
    "model.fit(X_train, y_train)\n",
    "\n",
    "# TODO: Extract the feature importances using .feature_importances_ \n",
    "importances = model.feature_importances_\n",
    "\n",
    "# Plot\n",
    "vs.feature_plot(importances, X_train, y_train)\n",
    "\n",
    "# Just curious can I beat Forrest with AdaBoost (spoiler: yes)\n",
    "predictions_test = model.predict(X_test)\n",
    "accuracy = accuracy_score(y_test, predictions_test)\n",
    "beta = fbeta_score(y_test, predictions_test, beta=0.5)\n",
    "print('### AdaBoost. Test accuracy:', accuracy, 'Test beta:', beta)"
   ]
  },
  {
   "cell_type": "markdown",
   "metadata": {},
   "source": [
    "### Question 7 - Extracting Feature Importance\n",
    "\n",
    "Observe the visualization created above which displays the five most relevant features for predicting if an individual makes at most or above \\$50,000.  \n",
    "* How do these five features compare to the five features you discussed in **Question 6**?\n",
    "* If you were close to the same answer, how does this visualization confirm your thoughts? \n",
    "* If you were not close, why do you think these features are more relevant?"
   ]
  },
  {
   "cell_type": "markdown",
   "metadata": {},
   "source": [
    "**Answer:**"
   ]
  },
  {
   "cell_type": "markdown",
   "metadata": {},
   "source": [
    "### Feature Selection\n",
    "How does a model perform if we only use a subset of all the available features in the data? With less features required to train, the expectation is that training and prediction time is much lower — at the cost of performance metrics. From the visualization above, we see that the top five most important features contribute more than half of the importance of **all** features present in the data. This hints that we can attempt to *reduce the feature space* and simplify the information required for the model to learn. The code cell below will use the same optimized model you found earlier, and train it on the same training set *with only the top five important features*. "
   ]
  },
  {
   "cell_type": "code",
   "execution_count": null,
   "metadata": {
    "collapsed": true
   },
   "outputs": [],
   "source": [
    "# Import functionality for cloning a model\n",
    "from sklearn.base import clone\n",
    "\n",
    "# Reduce the feature space\n",
    "X_train_reduced = X_train[X_train.columns.values[(np.argsort(importances)[::-1])[:5]]]\n",
    "X_test_reduced = X_test[X_test.columns.values[(np.argsort(importances)[::-1])[:5]]]\n",
    "\n",
    "# Train on the \"best\" model found from grid search earlier\n",
    "clf = (clone(best_clf)).fit(X_train_reduced, y_train)\n",
    "\n",
    "# Make new predictions\n",
    "reduced_predictions = clf.predict(X_test_reduced)\n",
    "\n",
    "# Report scores from the final model using both versions of data\n",
    "print(\"Final Model trained on full data\\n------\")\n",
    "print(\"Accuracy on testing data: {:.4f}\".format(accuracy_score(y_test, best_predictions)))\n",
    "print(\"F-score on testing data: {:.4f}\".format(fbeta_score(y_test, best_predictions, beta = 0.5)))\n",
    "print(\"\\nFinal Model trained on reduced data\\n------\")\n",
    "print(\"Accuracy on testing data: {:.4f}\".format(accuracy_score(y_test, reduced_predictions)))\n",
    "print(\"F-score on testing data: {:.4f}\".format(fbeta_score(y_test, reduced_predictions, beta = 0.5)))"
   ]
  },
  {
   "cell_type": "markdown",
   "metadata": {},
   "source": [
    "### Question 8 - Effects of Feature Selection\n",
    "\n",
    "* How does the final model's F-score and accuracy score on the reduced data using only five features compare to those same scores when all features are used?\n",
    "* If training time was a factor, would you consider using the reduced data as your training set?"
   ]
  },
  {
   "cell_type": "markdown",
   "metadata": {},
   "source": [
    "**Answer:**"
   ]
  },
  {
   "cell_type": "markdown",
   "metadata": {},
   "source": [
    "> **Note**: Once you have completed all of the code implementations and successfully answered each question above, you may finalize your work by exporting the iPython Notebook as an HTML document. You can do this by using the menu above and navigating to  \n",
    "**File -> Download as -> HTML (.html)**. Include the finished document along with this notebook as your submission."
   ]
  }
 ],
 "metadata": {
  "kernelspec": {
   "display_name": "Python 3",
   "language": "python",
   "name": "python3"
  },
  "language_info": {
   "codemirror_mode": {
    "name": "ipython",
    "version": 3
   },
   "file_extension": ".py",
   "mimetype": "text/x-python",
   "name": "python",
   "nbconvert_exporter": "python",
   "pygments_lexer": "ipython3",
   "version": "3.6.5"
  }
 },
 "nbformat": 4,
 "nbformat_minor": 1
}
